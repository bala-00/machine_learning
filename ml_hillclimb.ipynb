{
 "cells": [
  {
   "cell_type": "code",
   "execution_count": null,
   "id": "194e6e53",
   "metadata": {},
   "outputs": [],
   "source": []
  },
  {
   "cell_type": "code",
   "execution_count": 1,
   "id": "8ad18ae5",
   "metadata": {},
   "outputs": [
    {
     "name": "stdout",
     "output_type": "stream",
     "text": [
      "Minimum Distance Point: (4.200000000000002, 2.6000000000000014)\n",
      "Minimum Distance: 10.000644951945365\n"
     ]
    }
   ],
   "source": [
    "import math\n",
    "def distance(point1, point2):\n",
    "    return math.sqrt((point1[0] - point2[0])**2 + (point1[1] - point2[1])**2)\n",
    "\n",
    "def total_distance(current_point, points):\n",
    "    return sum(distance(current_point, point) for point in points)\n",
    "\n",
    "def hill_climbing(starting_point, points, step_size=0.1, max_iterations=1000):\n",
    "    current_point = starting_point\n",
    "    current_distance = total_distance(current_point, points)\n",
    "\n",
    "    for _ in range(max_iterations):\n",
    "        neighbors = [\n",
    "            (current_point[0] + step_size, current_point[1]),\n",
    "            (current_point[0] - step_size, current_point[1]),\n",
    "            (current_point[0], current_point[1] + step_size),\n",
    "            (current_point[0], current_point[1] - step_size)\n",
    "        ]\n",
    "\n",
    "        neighbor_distances = [total_distance(neighbor, points) for neighbor in neighbors]\n",
    "        best_neighbor_distance = min(neighbor_distances)\n",
    "        if best_neighbor_distance < current_distance:\n",
    "            best_neighbor_index = neighbor_distances.index(best_neighbor_distance)\n",
    "            current_point = neighbors[best_neighbor_index]\n",
    "            current_distance = best_neighbor_distance\n",
    "        else:\n",
    "            break\n",
    "\n",
    "    return current_point\n",
    "\n",
    "# Given points\n",
    "starting_point = [1, 1]\n",
    "point1 = [1, 5]\n",
    "point2 = [6, 4]\n",
    "point3 = [5, 2]\n",
    "point4 = [2, 1]\n",
    "\n",
    "# List of all points\n",
    "points = [point1, point2, point3, point4]\n",
    "\n",
    "# Find the minimum distance point using hill climbing algorithm\n",
    "minimum_distance_point = hill_climbing(starting_point, points)\n",
    "\n",
    "print(\"Minimum Distance Point:\", minimum_distance_point)\n",
    "print(\"Minimum Distance:\", total_distance(minimum_distance_point, points))"
   ]
  },
  {
   "cell_type": "code",
   "execution_count": 5,
   "id": "c9def00e",
   "metadata": {},
   "outputs": [],
   "source": []
  },
  {
   "cell_type": "code",
   "execution_count": null,
   "id": "7b192a75",
   "metadata": {},
   "outputs": [],
   "source": []
  },
  {
   "cell_type": "code",
   "execution_count": null,
   "id": "08a961fe",
   "metadata": {},
   "outputs": [],
   "source": []
  },
  {
   "cell_type": "code",
   "execution_count": null,
   "id": "2c10e854",
   "metadata": {},
   "outputs": [],
   "source": []
  },
  {
   "cell_type": "code",
   "execution_count": null,
   "id": "5fac9adc",
   "metadata": {},
   "outputs": [],
   "source": []
  },
  {
   "cell_type": "code",
   "execution_count": null,
   "id": "0ff23ebd",
   "metadata": {},
   "outputs": [],
   "source": []
  },
  {
   "cell_type": "code",
   "execution_count": null,
   "id": "057c3f80",
   "metadata": {},
   "outputs": [],
   "source": []
  },
  {
   "cell_type": "code",
   "execution_count": null,
   "id": "b4d8144e",
   "metadata": {},
   "outputs": [],
   "source": [
    "\n",
    "\n",
    "\n"
   ]
  },
  {
   "cell_type": "code",
   "execution_count": null,
   "id": "f08efede",
   "metadata": {},
   "outputs": [],
   "source": []
  },
  {
   "cell_type": "code",
   "execution_count": 7,
   "id": "224e16c3",
   "metadata": {},
   "outputs": [],
   "source": []
  },
  {
   "cell_type": "code",
   "execution_count": 8,
   "id": "52f099e8",
   "metadata": {},
   "outputs": [],
   "source": []
  },
  {
   "cell_type": "code",
   "execution_count": null,
   "id": "e86869f2",
   "metadata": {},
   "outputs": [],
   "source": []
  },
  {
   "cell_type": "code",
   "execution_count": null,
   "id": "6757f880",
   "metadata": {},
   "outputs": [],
   "source": []
  }
 ],
 "metadata": {
  "kernelspec": {
   "display_name": "Python 3 (ipykernel)",
   "language": "python",
   "name": "python3"
  },
  "language_info": {
   "codemirror_mode": {
    "name": "ipython",
    "version": 3
   },
   "file_extension": ".py",
   "mimetype": "text/x-python",
   "name": "python",
   "nbconvert_exporter": "python",
   "pygments_lexer": "ipython3",
   "version": "3.9.13"
  }
 },
 "nbformat": 4,
 "nbformat_minor": 5
}
